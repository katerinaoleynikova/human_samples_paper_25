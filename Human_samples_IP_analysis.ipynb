{
 "cells": [
  {
   "cell_type": "markdown",
   "id": "22ce1885-aa2b-40cb-ae47-a9bbd30e3c9f",
   "metadata": {},
   "source": [
    "# IP-seq bioinformatics analysis human samples"
   ]
  },
  {
   "cell_type": "markdown",
   "id": "e5b64fdd-7524-4771-b381-f13481b12a0f",
   "metadata": {},
   "source": [
    "## Data acquisition (hPSCs)"
   ]
  },
  {
   "cell_type": "markdown",
   "id": "692cd1c3-f51a-43b0-82d4-8a9712616af9",
   "metadata": {},
   "source": [
    "The data were retrived from the article: https://www.ncbi.nlm.nih.gov/pmc/articles/PMC6974403/ - 'Data and materials availability' section. (Bioproject ID: PRJNA474076 - https://www.ebi.ac.uk/ena/browser/view/PRJNA474076?show=reads. Then press on the 'Sample Accession' column and see what you need.) \\\n",
    "We need to download these reads:\n",
    "1. SAMN09291345 (Sample accession) corresponds to **S9.6 DRIP R2** - _SRR7820745_ (Run accession (it corresponds to raw data filename))\n",
    "2. SAMN09291344 - **S9.6 DRIP R1** - _SRR7820746_ \n",
    "3. SAMN12283116 - **IGG Control R1** - _SRR9693734_."
   ]
  },
  {
   "cell_type": "code",
   "execution_count": null,
   "id": "0adb882c-f23e-4972-bdf8-cd469587b0f4",
   "metadata": {},
   "outputs": [],
   "source": [
    "# S9.6 DRIP R1 (replicate 1)\n",
    "# paired-end reads:\n",
    "# _1\n",
    "!wget ftp://ftp.sra.ebi.ac.uk/vol1/fastq/SRR782/006/SRR7820746/SRR7820746_1.fastq.gz \\\n",
    "-P hpscs/\n",
    "# _2\n",
    "!wget ftp://ftp.sra.ebi.ac.uk/vol1/fastq/SRR782/006/SRR7820746/SRR7820746_2.fastq.gz \\\n",
    "-P hpscs/"
   ]
  },
  {
   "cell_type": "code",
   "execution_count": null,
   "id": "a5e6c96b-ca1e-4f34-80f2-4fdbb7c0848e",
   "metadata": {},
   "outputs": [],
   "source": [
    "# S9.6 DRIP R2 (replicate 2)\n",
    "# paired-end reads:\n",
    "# _1\n",
    "!wget ftp://ftp.sra.ebi.ac.uk/vol1/fastq/SRR782/005/SRR7820745/SRR7820745_1.fastq.gz \\\n",
    "-P hpscs/\n",
    "# _2\n",
    "!wget ftp://ftp.sra.ebi.ac.uk/vol1/fastq/SRR782/005/SRR7820745/SRR7820745_2.fastq.gz \\\n",
    "-P hpscs/"
   ]
  },
  {
   "cell_type": "code",
   "execution_count": null,
   "id": "bfc79845-45af-4df5-b365-3e979dcfe1de",
   "metadata": {},
   "outputs": [],
   "source": [
    "# IGG Control R1 (replicate 1)\n",
    "# _1\n",
    "!wget ftp://ftp.sra.ebi.ac.uk/vol1/fastq/SRR969/004/SRR9693734/SRR9693734_1.fastq.gz \\\n",
    "-P hpscs/\n",
    "# _2\n",
    "!wget ftp://ftp.sra.ebi.ac.uk/vol1/fastq/SRR969/004/SRR9693734/SRR9693734_2.fastq.gz \\\n",
    "-P hpscs/"
   ]
  },
  {
   "cell_type": "markdown",
   "id": "f1ec3ea6-4bca-49d7-8a12-b738e742c025",
   "metadata": {},
   "source": [
    "## Data acquisition (HAP1 (WT, KO 2B1, KO YF2) lab samples)"
   ]
  },
  {
   "cell_type": "markdown",
   "id": "d66e5bee-5b11-431c-b5c5-ece909ff28c5",
   "metadata": {},
   "source": [
    "HAP1 cells are a cell line derived from the KBM-7 cell line. KBM-7 was found in a patient with chronic myeloid leukemia (CML) (a group of blood cancers). \\\n",
    "HAP1 set contains the 3 subsets: WT, KO (knockout) HNRNPA2B1 and KO YTHDF2 samples. \\\n",
    "The samples can be retrieved from: .. TODO1."
   ]
  },
  {
   "cell_type": "markdown",
   "id": "3037c2a1-83bb-40de-b6f4-6aa1e5096b44",
   "metadata": {},
   "source": [
    "## Quality control (QC) of data"
   ]
  },
  {
   "cell_type": "code",
   "execution_count": null,
   "id": "53bd0ff1-f6ba-44ae-97ec-e2ba25d34eb3",
   "metadata": {},
   "outputs": [],
   "source": [
    "# launch fastqc of hPSCs data\n",
    "!fastqc hpscs/*.fastq.gz -o hpscs/fastqc_outputs"
   ]
  },
  {
   "cell_type": "code",
   "execution_count": null,
   "id": "98fdd5ec-6c3a-4d09-9c50-0a9f55b363b9",
   "metadata": {},
   "outputs": [],
   "source": [
    "# launch fastqc of HAP1 data\n",
    "!fastqc hap1_samples/*.fastq -o hap1_samples/fastqc_outputs"
   ]
  },
  {
   "cell_type": "markdown",
   "id": "a4ff9442-2eb4-4d61-80f7-0e50b223bd99",
   "metadata": {},
   "source": [
    "## Data trimming"
   ]
  },
  {
   "cell_type": "code",
   "execution_count": null,
   "id": "1e372be3-8c4a-45b0-a047-5b8ac9eecb14",
   "metadata": {},
   "outputs": [],
   "source": [
    "# HAP1 KO 2B1\n",
    "# 1 - Control\n",
    "!trim_galore \\\n",
    "hap1_samples/KO2B1_Control.fastq \\\n",
    "-o hap1_samples/trimmed_files \\\n",
    "--fastqc \\\n",
    "--length 25 \\\n",
    "--clip_R1 3 \\\n",
    "--three_prime_clip_R1 3"
   ]
  },
  {
   "cell_type": "code",
   "execution_count": null,
   "id": "2fba8160-3d2b-49ca-b83d-8d00d767a3a7",
   "metadata": {},
   "outputs": [],
   "source": [
    "# HAP1 KO YF2\n",
    "# 1 - Control\n",
    "!trim_galore \\\n",
    "hap1_samples/KOYF2_Control.fastq \\\n",
    "-o hap1_samples/trimmed_files \\\n",
    "--fastqc \\\n",
    "--length 25 \\\n",
    "--clip_R1 3 \\\n",
    "--three_prime_clip_R1 3"
   ]
  },
  {
   "cell_type": "markdown",
   "id": "cb4a11ea-4e09-485c-89e7-e4833252e5fd",
   "metadata": {},
   "source": [
    "## Data mapping to reference genome"
   ]
  },
  {
   "cell_type": "code",
   "execution_count": null,
   "id": "bfd28101-430d-4dbf-9afc-38872950a6f9",
   "metadata": {},
   "outputs": [],
   "source": [
    "# hPSCs\n",
    "# 1 - S9.6 DRIP R1\n",
    "!bowtie2 -p 8 -q --local -x Homo_sapiens_GRCh38_assembly_110 \\\n",
    "-1 hpscs/SRR7820746_1.fastq.gz \\\n",
    "-2 hpscs/SRR7820746_2.fastq.gz \\\n",
    "-S hpscs/aligned_reads/S9.6_DRIP_R1.sam"
   ]
  },
  {
   "cell_type": "code",
   "execution_count": null,
   "id": "ee56b280-8d01-4ea2-a8bd-37d3b253b7d7",
   "metadata": {},
   "outputs": [],
   "source": [
    "# hPSCs\n",
    "# 2 - S9.6 DRIP R2\n",
    "!bowtie2 -p 8 -q --local -x Homo_sapiens_GRCh38_assembly_110 \\\n",
    "-1 hpscs/SRR7820745_1.fastq.gz \\\n",
    "-2 hpscs/SRR7820745_2.fastq.gz \\\n",
    "-S hpscs/aligned_reads/S9.6_DRIP_R2.sam"
   ]
  },
  {
   "cell_type": "code",
   "execution_count": null,
   "id": "36b58851-b7c0-4e83-aed9-44a832421230",
   "metadata": {},
   "outputs": [],
   "source": [
    "# hPSCs\n",
    "# 3 - IGG Control R1\n",
    "!bowtie2 -p 8 -q --local -x Homo_sapiens_GRCh38_assembly_110 \\\n",
    "-1 hpscs/SRR9693734_1.fastq.gz \\\n",
    "-2 hpscs/SRR9693734_2.fastq.gz \\\n",
    "-S hpscs/aligned_reads/Control_R1.sam"
   ]
  },
  {
   "cell_type": "code",
   "execution_count": null,
   "id": "20b5a97b-ae21-436f-b36f-5d63b24ac791",
   "metadata": {},
   "outputs": [],
   "source": [
    "# HAP1 WT\n",
    "# p.s. should be 'gzip *.fastq' at first for all the .fastq samples\n",
    "# 1 - S96_R1\n",
    "!bowtie2 \\\n",
    "-p 8 -q --local -x Homo_sapiens_GRCh38_assembly_110 \\\n",
    "-U hap1_samples/S96_WT_1.fastq.gz \\\n",
    "-S hap1_samples/aligned_files/S96_WT_1_aln_unsorted.sam"
   ]
  },
  {
   "cell_type": "code",
   "execution_count": null,
   "id": "1c607077-21ae-4359-ab21-0c84dfc7d199",
   "metadata": {},
   "outputs": [],
   "source": [
    "# HAP1 WT\n",
    "# 2 - S96_R2\n",
    "!bowtie2 \\\n",
    "-p 8 -q --local -x Homo_sapiens_GRCh38_assembly_110 \\\n",
    "-U hap1_samples/S96_WT_2.fastq.gz \\\n",
    "-S hap1_samples/aligned_files/S96_WT_2_aln_unsorted.sam"
   ]
  },
  {
   "cell_type": "code",
   "execution_count": null,
   "id": "8e1e51df-461f-42b4-8d41-0a4af0899531",
   "metadata": {},
   "outputs": [],
   "source": [
    "# HAP1 WT\n",
    "# 3 - WT_Control\n",
    "!bowtie2 -p 8 -q --local -x Homo_sapiens_GRCh38_assembly_110 \\\n",
    "-U hap1_samples/WT_Control.fastq.gz \\\n",
    "-S hap1_samples/aligned_files/WT_Control_aln_unsorted.sam"
   ]
  },
  {
   "cell_type": "code",
   "execution_count": null,
   "id": "66e63d60-5862-45ab-8edb-dfbd9de02719",
   "metadata": {},
   "outputs": [],
   "source": [
    "# HAP1 KO 2B1\n",
    "# 1 - S96_KOA2B1_1\n",
    "!bowtie2 \\\n",
    "-p 8 -q --local -x Homo_sapiens_GRCh38_assembly_110 \\\n",
    "-U hap1_samples/S96_KOA2B1_1.fastq.gz \\\n",
    "-S hap1_samples/aligned_files/S96_KOA2B1_1_aln_unsorted.sam"
   ]
  },
  {
   "cell_type": "code",
   "execution_count": null,
   "id": "ed35be75-b144-420c-a76d-5f2b81b7ba17",
   "metadata": {},
   "outputs": [],
   "source": [
    "# HAP1 KO 2B1\n",
    "# 2 - S96_KOA2B1_2\n",
    "!bowtie2 \\\n",
    "-p 8 -q --local -x Homo_sapiens_GRCh38_assembly_110 \\\n",
    "-U hap1_samples/S96_KOA2B1_2.fastq.gz \\\n",
    "-S hap1_samples/aligned_files/S96_KOA2B1_2_aln_unsorted.sam"
   ]
  },
  {
   "cell_type": "code",
   "execution_count": null,
   "id": "5a8b9773-7521-4e5c-b958-0eb0e7c85037",
   "metadata": {},
   "outputs": [],
   "source": [
    "# HAP1 KO 2B1\n",
    "# 3 - Control\n",
    "!bowtie2 \\\n",
    "-p 8 -q --local -x Homo_sapiens_GRCh38_assembly_110 \\\n",
    "-U hap1_samples/trimmed_files/KO2B1_Control_trimmed.fq.gz \\\n",
    "-S hap1_samples/aligned_files/KO2B1_Control_aln_unsorted.sam"
   ]
  },
  {
   "cell_type": "code",
   "execution_count": null,
   "id": "81bf4838-6555-47c0-ba2d-2e436753a0b9",
   "metadata": {},
   "outputs": [],
   "source": [
    "# HAP1 KO YF2\n",
    "# 1 - S96_KOYF2_1\n",
    "!bowtie2 \\\n",
    "-p 8 -q --local -x Homo_sapiens_GRCh38_assembly_110 \\\n",
    "-U hap1_samples/S96_KOYF2_1.fastq.gz \\\n",
    "-S hap1_samples/aligned_files/S96_KOYF2_1_aln_unsorted.sam"
   ]
  },
  {
   "cell_type": "code",
   "execution_count": null,
   "id": "dc204b65-24ca-4260-8424-c91e7b2a6e39",
   "metadata": {},
   "outputs": [],
   "source": [
    "# HAP1 KO YF2\n",
    "# 2 - S96_KOYF2_2\n",
    "!bowtie2 \\\n",
    "-p 8 -q --local -x Homo_sapiens_GRCh38_assembly_110 \\\n",
    "-U hap1_samples/S96_KOYF2_2.fastq.gz \\\n",
    "-S hap1_samples/aligned_files/S96_KOYF2_2_aln_unsorted.sam"
   ]
  },
  {
   "cell_type": "code",
   "execution_count": null,
   "id": "492ab580-0acb-48eb-bacb-55715d7a6abe",
   "metadata": {},
   "outputs": [],
   "source": [
    "# HAP1 KO YF2\n",
    "# 3 - Control\n",
    "!bowtie2 \\\n",
    "-p 8 -q --local -x Homo_sapiens_GRCh38_assembly_110 \\\n",
    "-U hap1_samples/trimmed_files/KOYF2_Control_trimmed.fq.gz \\\n",
    "-S hap1_samples/aligned_files/KOYF2_Control_aln_unsorted.sam"
   ]
  },
  {
   "cell_type": "markdown",
   "id": "ff0d8dd4-37dc-486a-8df1-adc816adcf88",
   "metadata": {},
   "source": [
    "## Reads filtering"
   ]
  },
  {
   "cell_type": "code",
   "execution_count": null,
   "id": "6e4daec2-4227-4cd3-a536-f4033b2cf251",
   "metadata": {},
   "outputs": [],
   "source": [
    "# hPSCs\n",
    "# 1 - S9.6 DRIP R1\n",
    "!samtools view -h -S -b \\\n",
    "-o hpscs/aligned_reads/filtered_reads/S9.6_DRIP_R1.bam \\\n",
    "hpscs/aligned_reads/S9.6_DRIP_R1.sam"
   ]
  },
  {
   "cell_type": "code",
   "execution_count": null,
   "id": "50234a25-1e53-4bd4-a4c6-2b52ce92c2a6",
   "metadata": {},
   "outputs": [],
   "source": [
    "# hPSCs\n",
    "# 2 - S9.6 DRIP R2\n",
    "!samtools view -h -S -b \\\n",
    "-o hpscs/aligned_reads/filtered_reads/S9.6_DRIP_R2.bam \\\n",
    "hpscs/aligned_reads/S9.6_DRIP_R2.sam"
   ]
  },
  {
   "cell_type": "code",
   "execution_count": null,
   "id": "cb9e49a7-1246-4fc4-a232-ac695e66df7d",
   "metadata": {},
   "outputs": [],
   "source": [
    "# hPSCs\n",
    "# 3 - IGG Control R1\n",
    "!samtools view -h -S -b \\\n",
    "-o hpscs/aligned_reads/filtered_reads/Control_R1.bam \\\n",
    "hpscs/aligned_reads/Control_R1.sam"
   ]
  },
  {
   "cell_type": "code",
   "execution_count": null,
   "id": "230c2aa9-9908-4148-b05c-760cc3211cc3",
   "metadata": {},
   "outputs": [],
   "source": [
    "# hPSCs\n",
    "# 1 - S9.6 DRIP R1\n",
    "!samtools sort \\\n",
    "-o hpscs/aligned_reads/filtered_reads/S9.6_DRIP_R1_sorted.bam \\\n",
    "hpscs/aligned_reads/filtered_reads/S9.6_DRIP_R1.bam"
   ]
  },
  {
   "cell_type": "code",
   "execution_count": null,
   "id": "0692a543-0813-41f3-80fe-bf68bbd1802a",
   "metadata": {},
   "outputs": [],
   "source": [
    "# hPSCs\n",
    "# 2 - S9.6 DRIP R2\n",
    "!samtools sort \\\n",
    "-o hpscs/aligned_reads/filtered_reads/S9.6_DRIP_R2_sorted.bam \\\n",
    "hpscs/aligned_reads/filtered_reads/S9.6_DRIP_R2.bam"
   ]
  },
  {
   "cell_type": "code",
   "execution_count": null,
   "id": "17ea225d-e623-4a32-99e2-4e30309dd3de",
   "metadata": {},
   "outputs": [],
   "source": [
    "# hPSCs\n",
    "# 3 - IGG Control R1\n",
    "!samtools sort \\\n",
    "-o hpscs/aligned_reads/filtered_reads/Control_R1_sorted.bam \\\n",
    "hpscs/aligned_reads/filtered_reads/Control_R1.bam"
   ]
  },
  {
   "cell_type": "code",
   "execution_count": null,
   "id": "ca005f1b-26fd-4b92-aa2d-e70491006021",
   "metadata": {},
   "outputs": [],
   "source": [
    "# hPSCs\n",
    "# 1 - S9.6 DRIP R1\n",
    "!samtools view -bq 1 \\\n",
    "hpscs/aligned_reads/filtered_reads/S9.6_DRIP_R1_sorted.bam > \\\n",
    "hpscs/aligned_reads/filtered_reads/S9.6_DRIP_R1_aln.bam"
   ]
  },
  {
   "cell_type": "code",
   "execution_count": null,
   "id": "be03db9d-dcb2-4ba2-b764-afbcbe5f8dbb",
   "metadata": {},
   "outputs": [],
   "source": [
    "# hPSCs\n",
    "# 2 - S9.6 DRIP R2\n",
    "!samtools view -bq 1 \\\n",
    "hpscs/aligned_reads/filtered_reads/S9.6_DRIP_R2_sorted.bam > \\\n",
    "hpscs/aligned_reads/filtered_reads/S9.6_DRIP_R2_aln.bam"
   ]
  },
  {
   "cell_type": "code",
   "execution_count": null,
   "id": "b94b722d-e3fd-40fc-8074-7831dfc6b180",
   "metadata": {},
   "outputs": [],
   "source": [
    "# hPSCs\n",
    "# 3 - IGG Control R1\n",
    "!samtools view -bq 1 \\\n",
    "hpscs/aligned_reads/filtered_reads/Control_R1_sorted.bam > \\\n",
    "hpscs/aligned_reads/filtered_reads/Control_R1_aln.bam"
   ]
  },
  {
   "cell_type": "code",
   "execution_count": null,
   "id": "db4e90a3-6276-4087-8fcf-24136178096c",
   "metadata": {},
   "outputs": [],
   "source": [
    "# hPSCs\n",
    "# 1 - S9.6 DRIP R1\n",
    "!samtools index \\\n",
    "hpscs/aligned_reads/filtered_reads/S9.6_DRIP_R1_aln.bam"
   ]
  },
  {
   "cell_type": "code",
   "execution_count": null,
   "id": "b1fad7a1-4c1e-4f75-8ee2-ad4b0bbec780",
   "metadata": {},
   "outputs": [],
   "source": [
    "# hPSCs\n",
    "# 2 - S9.6 DRIP R2\n",
    "!samtools index \\\n",
    "hpscs/aligned_reads/filtered_reads/S9.6_DRIP_R2_aln.bam"
   ]
  },
  {
   "cell_type": "code",
   "execution_count": null,
   "id": "703d237b-c25e-49cf-90e8-e1d98d910824",
   "metadata": {},
   "outputs": [],
   "source": [
    "# hPSCs\n",
    "# 3 - IGG Control R1 (replicate 1)\n",
    "!samtools index \\\n",
    "hpscs/aligned_reads/filtered_reads/Control_R1_aln.bam"
   ]
  },
  {
   "cell_type": "code",
   "execution_count": null,
   "id": "88e23f7e-7ba7-4f0f-8e17-135630383b15",
   "metadata": {},
   "outputs": [],
   "source": [
    "# HAP1 WT\n",
    "# 1 - S96_R1\n",
    "!samtools view -h -S -b \\\n",
    "-o hap1_samples/trimmed_files/aligned_files/filtered_reads/S96_WT_1.bam \\\n",
    "hap1_samples/trimmed_files/aligned_files/S96_WT_1_aln_unsorted.sam"
   ]
  },
  {
   "cell_type": "code",
   "execution_count": null,
   "id": "7058f564-d67a-4e84-93a2-2e5a88923d50",
   "metadata": {},
   "outputs": [],
   "source": [
    "# HAP1 WT\n",
    "# 2 - S96_R2\n",
    "!samtools view -h -S -b \\\n",
    "-o hap1_samples/trimmed_files/aligned_files/filtered_reads/S96_WT_2.bam \\\n",
    "hap1_samples/trimmed_files/aligned_files/S96_WT_2_aln_unsorted.sam"
   ]
  },
  {
   "cell_type": "code",
   "execution_count": null,
   "id": "1b7c58f4-5203-47ac-b186-5aa9d15b6eb9",
   "metadata": {},
   "outputs": [],
   "source": [
    "# HAP1 WT\n",
    "# 3 - WT_Control\n",
    "!samtools view -h -S -b \\\n",
    "-o hap1_samples/trimmed_files/aligned_files/filtered_reads/WT_Control.bam \\\n",
    "hap1_samples/trimmed_files/aligned_files/WT_Control_aln_unsorted.sam"
   ]
  },
  {
   "cell_type": "code",
   "execution_count": null,
   "id": "5062caec-b8a3-40aa-b65a-a84e5b2cefea",
   "metadata": {},
   "outputs": [],
   "source": [
    "# HAP1 WT\n",
    "# 1 - S96_R1\n",
    "!samtools sort \\\n",
    "-o hap1_samples/trimmed_files/aligned_files/filtered_reads/S96_WT_1_sorted.bam \\\n",
    "hap1_samples/trimmed_files/aligned_files/filtered_reads/S96_WT_1.bam"
   ]
  },
  {
   "cell_type": "code",
   "execution_count": null,
   "id": "6578ce8c-8065-4376-bb45-d22dcc6a04cf",
   "metadata": {},
   "outputs": [],
   "source": [
    "# HAP1 WT\n",
    "# 2 - S96_R2\n",
    "!samtools sort \\\n",
    "-o hap1_samples/trimmed_files/aligned_files/filtered_reads/S96_WT_2_sorted.bam \\\n",
    "hap1_samples/trimmed_files/aligned_files/filtered_reads/S96_WT_2.bam"
   ]
  },
  {
   "cell_type": "code",
   "execution_count": null,
   "id": "3d350e64-01fd-4782-ab26-7f720660eb93",
   "metadata": {},
   "outputs": [],
   "source": [
    "# HAP1 WT\n",
    "# 3 - WT_Control\n",
    "!samtools sort \\\n",
    "-o hap1_samples/trimmed_files/aligned_files/filtered_reads/WT_Control_sorted.bam \\\n",
    "hap1_samples/trimmed_files/aligned_files/filtered_reads/WT_Control.bam"
   ]
  },
  {
   "cell_type": "code",
   "execution_count": null,
   "id": "c9524795-8692-4961-b489-0e0a455cc364",
   "metadata": {},
   "outputs": [],
   "source": [
    "# HAP1 WT\n",
    "# 1 - S96_R1\n",
    "!samtools view -bq 1 \\\n",
    "hap1_samples/trimmed_files/aligned_files/filtered_reads/S96_WT_1_sorted.bam > \\\n",
    "hap1_samples/trimmed_files/aligned_files/filtered_reads/S96_WT_1_aln.bam"
   ]
  },
  {
   "cell_type": "code",
   "execution_count": null,
   "id": "42b8f0e3-13d1-4b45-b5a7-08b7c683f043",
   "metadata": {},
   "outputs": [],
   "source": [
    "# HAP1 WT\n",
    "# 2 - S96_R2\n",
    "!samtools view -bq 1 \\\n",
    "hap1_samples/trimmed_files/aligned_files/filtered_reads/S96_WT_2_sorted.bam > \\\n",
    "hap1_samples/trimmed_files/aligned_files/filtered_reads/S96_WT_2_aln.bam"
   ]
  },
  {
   "cell_type": "code",
   "execution_count": null,
   "id": "bcb6ddb8-20c9-4672-bc26-24ea8740b6aa",
   "metadata": {},
   "outputs": [],
   "source": [
    "# HAP1 WT\n",
    "# 3 - WT_Control\n",
    "!samtools view -bq 1 \\\n",
    "hap1_samples/trimmed_files/aligned_files/filtered_reads/WT_Control_sorted.bam > \\\n",
    "hap1_samples/trimmed_files/aligned_files/filtered_reads/WT_Control_aln.bam"
   ]
  },
  {
   "cell_type": "code",
   "execution_count": null,
   "id": "ed7b47fe-0389-4a36-9980-94c072e0f13c",
   "metadata": {},
   "outputs": [],
   "source": [
    "# HAP1 WT\n",
    "# 1 - S96_R1\n",
    "!samtools index \\\n",
    "hap1_samples/aligned_files/filtered_reads/S96_WT_1_aln.bam"
   ]
  },
  {
   "cell_type": "code",
   "execution_count": null,
   "id": "413562a6-59dd-4f2b-a60c-554f6fd9b649",
   "metadata": {},
   "outputs": [],
   "source": [
    "# HAP1 WT\n",
    "# 2 - S96_R2\n",
    "!samtools index \\\n",
    "hap1_samples/aligned_files/filtered_reads/S96_WT_2_aln.bam"
   ]
  },
  {
   "cell_type": "code",
   "execution_count": null,
   "id": "e4e58c26-b67d-48ed-849f-19c3e9049a65",
   "metadata": {},
   "outputs": [],
   "source": [
    "# HAP1 WT\n",
    "# 3 - WT_Control\n",
    "!samtools index \\\n",
    "hap1_samples/aligned_files/filtered_reads/WT_Control_aln.bam"
   ]
  },
  {
   "cell_type": "code",
   "execution_count": null,
   "id": "2bcaff47-e704-4dd7-8268-da6b14fe8abd",
   "metadata": {},
   "outputs": [],
   "source": [
    "# HAP1 KO 2B1\n",
    "# 1 - S96_KOA2B1_1\n",
    "!samtools view -h -S -b \\\n",
    "-o hap1_samples/aligned_files/filtered_reads/S96_KOA2B1_1.bam \\\n",
    "hap1_samples/aligned_files/S96_KOA2B1_1_aln_unsorted.sam"
   ]
  },
  {
   "cell_type": "code",
   "execution_count": null,
   "id": "80c4a84d-6694-4012-9832-28debd687bd6",
   "metadata": {},
   "outputs": [],
   "source": [
    "# HAP1 KO 2B1\n",
    "# 2 - S96_KOA2B1_2\n",
    "!samtools view -h -S -b \\\n",
    "-o hap1_samples/aligned_files/filtered_reads/S96_KOA2B1_2.bam \\\n",
    "hap1_samples/aligned_files/S96_KOA2B1_2_aln_unsorted.sam"
   ]
  },
  {
   "cell_type": "code",
   "execution_count": null,
   "id": "c5ff38f2-99b6-4c0d-bd93-6446e561f5b5",
   "metadata": {},
   "outputs": [],
   "source": [
    "# HAP1 KO 2B1\n",
    "# 3 - Control\n",
    "!samtools view -h -S -b \\\n",
    "-o hap1_samples/aligned_files/filtered_reads/KO2B1_Control.bam \\\n",
    "hap1_samples/aligned_files/KO2B1_Control_aln_unsorted.sam"
   ]
  },
  {
   "cell_type": "code",
   "execution_count": null,
   "id": "2843be69-3f63-4101-9692-baf2da2a83c2",
   "metadata": {},
   "outputs": [],
   "source": [
    "# HAP1 KO 2B1\n",
    "# 1 - S96_KOA2B1_1\n",
    "!samtools sort \\\n",
    "-o hap1_samples/aligned_files/filtered_reads/S96_KOA2B1_1_sorted.bam \\\n",
    "hap1_samples/aligned_files/filtered_reads/S96_KOA2B1_1.bam"
   ]
  },
  {
   "cell_type": "code",
   "execution_count": null,
   "id": "7ed6f782-897f-4d62-9b85-f0136b579936",
   "metadata": {},
   "outputs": [],
   "source": [
    "# HAP1 KO 2B1\n",
    "# 2 - S96_KOA2B1_2\n",
    "!samtools sort \\\n",
    "-o hap1_samples/aligned_files/filtered_reads/S96_KOA2B1_2_sorted.bam \\\n",
    "hap1_samples/aligned_files/filtered_reads/S96_KOA2B1_2.bam"
   ]
  },
  {
   "cell_type": "code",
   "execution_count": null,
   "id": "bf71c90f-fb3f-4d02-9faf-bf373f6af44b",
   "metadata": {},
   "outputs": [],
   "source": [
    "# HAP1 KO 2B1\n",
    "# 3 - Control\n",
    "!samtools sort \\\n",
    "-o hap1_samples/aligned_files/filtered_reads/KO2B1_Control_sorted.bam \\\n",
    "hap1_samples/aligned_files/filtered_reads/KO2B1_Control.bam"
   ]
  },
  {
   "cell_type": "code",
   "execution_count": null,
   "id": "de2906c7-fc21-43fc-8b9d-185fd58feda2",
   "metadata": {},
   "outputs": [],
   "source": [
    "# HAP1 KO 2B1\n",
    "# 1 - S96_KOA2B1_1\n",
    "!samtools view -bq 1 \\\n",
    "hap1_samples/aligned_files/filtered_reads/S96_KOA2B1_1_sorted.bam > \\\n",
    "hap1_samples/aligned_files/filtered_reads/S96_KOA2B1_1_aln.bam"
   ]
  },
  {
   "cell_type": "code",
   "execution_count": null,
   "id": "e254d051-ee62-43ce-b080-de37792dcfc1",
   "metadata": {},
   "outputs": [],
   "source": [
    "# HAP1 KO 2B1\n",
    "# 2 - S96_KOA2B1_2\n",
    "!samtools view -bq 1 \\\n",
    "hap1_samples/aligned_files/filtered_reads/S96_KOA2B1_2_sorted.bam > \\\n",
    "hap1_samples/aligned_files/filtered_reads/S96_KOA2B1_2_aln.bam"
   ]
  },
  {
   "cell_type": "code",
   "execution_count": null,
   "id": "b6450478-5ee6-41e4-935c-e110501465ab",
   "metadata": {},
   "outputs": [],
   "source": [
    "# HAP1 KO 2B1\n",
    "# 3 - Control\n",
    "!samtools view -bq 1 \\\n",
    "hap1_samples/aligned_files/filtered_reads/KO2B1_Control_sorted.bam > \\\n",
    "hap1_samples/aligned_files/filtered_reads/KO2B1_Control_aln.bam"
   ]
  },
  {
   "cell_type": "code",
   "execution_count": null,
   "id": "4a2d6dcc-c54d-4909-ba1b-c93f9b73f04b",
   "metadata": {},
   "outputs": [],
   "source": [
    "# HAP1 KO 2B1\n",
    "# 1 - S96_KOA2B1_1\n",
    "!samtools index \\\n",
    "hap1_samples/aligned_files/filtered_reads/S96_KOA2B1_1_aln.bam"
   ]
  },
  {
   "cell_type": "code",
   "execution_count": null,
   "id": "e4a13ab6-03a2-438a-a6ec-016c10213ef7",
   "metadata": {},
   "outputs": [],
   "source": [
    "# HAP1 KO 2B1\n",
    "# 2 - S96_KOA2B1_2\n",
    "!samtools index \\\n",
    "hap1_samples/aligned_files/filtered_reads/S96_KOA2B1_2_aln.bam"
   ]
  },
  {
   "cell_type": "code",
   "execution_count": null,
   "id": "0341e479-5621-4b5b-b2b5-d2f3d7e36688",
   "metadata": {},
   "outputs": [],
   "source": [
    "# HAP1 KO 2B1\n",
    "# 3 - Control\n",
    "!samtools index \\\n",
    "hap1_samples/aligned_files/filtered_reads/KO2B1_Control_aln.bam"
   ]
  },
  {
   "cell_type": "code",
   "execution_count": null,
   "id": "79273475-6e2f-4028-ba9a-af71e1ca8fd0",
   "metadata": {},
   "outputs": [],
   "source": [
    "# HAP1 KO YF2\n",
    "# 1 - S96_KOYF2_1\n",
    "!samtools view -h -S -b \\\n",
    "-o hap1_samples/aligned_files/filtered_reads/S96_KOYF2_1.bam \\\n",
    "hap1_samples/aligned_files/S96_KOYF2_1_aln_unsorted.sam"
   ]
  },
  {
   "cell_type": "code",
   "execution_count": null,
   "id": "3f23c1fd-a741-4041-8269-7f0587aef0b3",
   "metadata": {},
   "outputs": [],
   "source": [
    "# HAP1 KO YF2\n",
    "# 2 - S96_KOYF2_2\n",
    "!samtools view -h -S -b \\\n",
    "-o hap1_samples/aligned_files/filtered_reads/S96_KOYF2_2.bam \\\n",
    "hap1_samples/aligned_files/S96_KOYF2_2_aln_unsorted.sam"
   ]
  },
  {
   "cell_type": "code",
   "execution_count": null,
   "id": "d4e7a79a-7f23-439c-aaf1-5a4369208e3f",
   "metadata": {},
   "outputs": [],
   "source": [
    "# HAP1 KO YF2\n",
    "# 3 - Control\n",
    "!samtools view -h -S -b \\\n",
    "-o hap1_samples/aligned_files/filtered_reads/KOYF2_Control.bam \\\n",
    "hap1_samples/aligned_files/KOYF2_Control_aln_unsorted.sam"
   ]
  },
  {
   "cell_type": "code",
   "execution_count": null,
   "id": "9f05a995-7369-4515-89e5-e4cb423cbe9c",
   "metadata": {},
   "outputs": [],
   "source": [
    "# HAP1 KO YF2\n",
    "# 1 - S96_KOYF2_1\n",
    "!samtools sort \\\n",
    "-o hap1_samples/aligned_files/filtered_reads/S96_KOYF2_1_sorted.bam \\\n",
    "hap1_samples/aligned_files/filtered_reads/S96_KOYF2_1.bam"
   ]
  },
  {
   "cell_type": "code",
   "execution_count": null,
   "id": "0bb80616-4475-4722-8943-d68d932abf47",
   "metadata": {},
   "outputs": [],
   "source": [
    "# HAP1 KO YF2\n",
    "# 2 - S96_KOYF2_2\n",
    "!samtools sort \\\n",
    "-o hap1_samples/aligned_files/filtered_reads/S96_KOYF2_2_sorted.bam \\\n",
    "hap1_samples/aligned_files/filtered_reads/S96_KOYF2_2.bam"
   ]
  },
  {
   "cell_type": "code",
   "execution_count": null,
   "id": "88ab1419-63f7-40d9-ba06-d4d5b0649a37",
   "metadata": {},
   "outputs": [],
   "source": [
    "# HAP1 KO YF2\n",
    "# 3 - Control\n",
    "!samtools sort \\\n",
    "-o hap1_samples/aligned_files/filtered_reads/KOYF2_Control_sorted.bam \\\n",
    "hap1_samples/aligned_files/filtered_reads/KOYF2_Control.bam"
   ]
  },
  {
   "cell_type": "code",
   "execution_count": null,
   "id": "ef123770-6f49-47da-8074-318a689534db",
   "metadata": {},
   "outputs": [],
   "source": [
    "# HAP1 KO YF2\n",
    "# 1 - S96_KOYF2_1\n",
    "!samtools view -bq 1 \\\n",
    "hap1_samples/aligned_files/filtered_reads/S96_KOYF2_1_sorted.bam > \\\n",
    "hap1_samples/aligned_files/filtered_reads/S96_KOYF2_1_aln.bam"
   ]
  },
  {
   "cell_type": "code",
   "execution_count": null,
   "id": "957da79c-aaa8-4643-9dd4-d96764642ce4",
   "metadata": {},
   "outputs": [],
   "source": [
    "# HAP1 KO YF2\n",
    "# 2 - S96_KOYF2_2\n",
    "!samtools view -bq 1 \\\n",
    "hap1_samples/aligned_files/filtered_reads/S96_KOYF2_2_sorted.bam > \\\n",
    "hap1_samples/aligned_files/filtered_reads/S96_KOYF2_2_aln.bam"
   ]
  },
  {
   "cell_type": "code",
   "execution_count": null,
   "id": "2f69d492-8449-4b66-9aa8-a1244b31169d",
   "metadata": {},
   "outputs": [],
   "source": [
    "# HAP1 KO YF2\n",
    "# 3 - Control\n",
    "!samtools view -bq 1 \\\n",
    "hap1_samples/aligned_files/filtered_reads/KOYF2_Control_sorted.bam > \\\n",
    "hap1_samples/aligned_files/filtered_reads/KOYF2_Control_aln.bam"
   ]
  },
  {
   "cell_type": "code",
   "execution_count": null,
   "id": "b535b5d4-662f-4e7a-8821-c9785bac517d",
   "metadata": {},
   "outputs": [],
   "source": [
    "# HAP1 KO YF2\n",
    "# 1 - S96_KOYF2_1\n",
    "!samtools index \\\n",
    "hap1_samples/aligned_files/filtered_reads/S96_KOYF2_1_aln.bam"
   ]
  },
  {
   "cell_type": "code",
   "execution_count": null,
   "id": "cc46163c-f355-4a0d-ae41-3a38821fc71c",
   "metadata": {},
   "outputs": [],
   "source": [
    "# HAP1 KO YF2\n",
    "# 2 - S96_KOYF2_2\n",
    "!samtools index \\\n",
    "hap1_samples/aligned_files/filtered_reads/S96_KOYF2_2_aln.bam"
   ]
  },
  {
   "cell_type": "code",
   "execution_count": null,
   "id": "88ee7fde-bb72-4a39-869d-29a5968904a2",
   "metadata": {},
   "outputs": [],
   "source": [
    "# HAP1 KO YF2\n",
    "# 3 - Control\n",
    "!samtools index \\\n",
    "hap1_samples/aligned_files/filtered_reads/KOYF2_Control_aln.bam"
   ]
  },
  {
   "cell_type": "markdown",
   "id": "2816cd05-477e-4c2e-9990-a09605d50460",
   "metadata": {},
   "source": [
    "## Peaks calling (broad peaks)"
   ]
  },
  {
   "cell_type": "code",
   "execution_count": null,
   "id": "239672fd-8474-43eb-bc3a-8fb5fe6265d1",
   "metadata": {},
   "outputs": [],
   "source": [
    "# hPCSs\n",
    "# 1 - S9.6 DRIP R1\n",
    "!macs2 callpeak -t hpscs/aligned_reads/filtered_reads/S9.6_DRIP_R1_aln.bam \\\n",
    "-c hpscs/aligned_reads/filtered_reads/Control_R1_aln.bam \\\n",
    "--broad \\\n",
    "--format BAM -g hs \\\n",
    "--keep-dup all \\\n",
    "--name S9.6_DRIP_R1__IGG_Control_R1 \\\n",
    "--outdir hpscs/aligned_reads/filtered_reads/peak_calling_macs2"
   ]
  },
  {
   "cell_type": "code",
   "execution_count": null,
   "id": "de017cb9-2ea3-4dff-9394-2861b4cd24b0",
   "metadata": {},
   "outputs": [],
   "source": [
    "# hPCSs\n",
    "# 2 - S9.6 DRIP R2\n",
    "!macs2 callpeak -t hpscs/aligned_reads/filtered_reads/S9.6_DRIP_R2_aln.bam \\\n",
    "-c hpscs/aligned_reads/filtered_reads/Control_R1_aln.bam \\\n",
    "--broad \\\n",
    "--format BAM -g hs \\\n",
    "--keep-dup all \\\n",
    "--name S9.6_DRIP_R2__IGG_Control_R1 \\\n",
    "--outdir hpscs/aligned_reads/filtered_reads/peak_calling_macs2"
   ]
  },
  {
   "cell_type": "code",
   "execution_count": null,
   "id": "84c92201-5371-4b7f-ba7f-ab82883cf73c",
   "metadata": {},
   "outputs": [],
   "source": [
    "# HAP1 WT\n",
    "# 1 - S96_R1\n",
    "!macs2 callpeak -t hap1_samples/aligned_files/filtered_reads/S96_WT_1_aln.bam \\\n",
    "-c hap1_samples/aligned_files/filtered_reads/WT_Control_aln.bam \\\n",
    "--broad \\\n",
    "--format BAM -g hs \\\n",
    "--keep-dup all \\\n",
    "--name S96_WT_1__WT_Control \\\n",
    "--outdir hap1_samples/aligned_files/filtered_reads/peak_calling_macs2"
   ]
  },
  {
   "cell_type": "code",
   "execution_count": null,
   "id": "5e2459a4-9098-4fe1-8c13-99e70b47e372",
   "metadata": {},
   "outputs": [],
   "source": [
    "# HAP1 WT\n",
    "# 2 - S96_R2\n",
    "!macs2 callpeak -t hap1_samples/aligned_files/filtered_reads/S96_WT_2_aln.bam \\\n",
    "-c hap1_samples/aligned_files/filtered_reads/WT_Control_aln.bam \\\n",
    "--broad \\\n",
    "--format BAM -g hs \\\n",
    "--keep-dup all \\\n",
    "--name S96_WT_2__WT_Control \\\n",
    "--outdir hap1_samples/aligned_files/filtered_reads/peak_calling_macs2"
   ]
  },
  {
   "cell_type": "code",
   "execution_count": null,
   "id": "597b2e6b-2a1e-43ef-a00a-de6969b5f081",
   "metadata": {},
   "outputs": [],
   "source": [
    "# HAP1 KO 2B1\n",
    "# 1 - S96_KOA2B1_1\n",
    "!macs2 callpeak -t hap1_samples/aligned_files/filtered_reads/S96_KOA2B1_1_aln.bam \\\n",
    "-c hap1_samples/aligned_files/filtered_reads/KO2B1_Control_aln.bam \\\n",
    "--broad \\\n",
    "--format BAM -g hs \\\n",
    "--keep-dup all \\\n",
    "--name S96_KOA2B1_1__KO2B1_Control \\\n",
    "--outdir hap1_samples/aligned_files/filtered_reads/peak_calling_macs2"
   ]
  },
  {
   "cell_type": "code",
   "execution_count": null,
   "id": "2e353768-fe73-43ca-a4ae-b784e7c602e7",
   "metadata": {},
   "outputs": [],
   "source": [
    "# HAP1 KO 2B1\n",
    "# 2 - S96_KOA2B1_2\n",
    "!macs2 callpeak -t hap1_samples/aligned_files/filtered_reads/S96_KOA2B1_2_aln.bam \\\n",
    "-c hap1_samples/aligned_files/filtered_reads/KO2B1_Control_aln.bam \\\n",
    "--broad \\\n",
    "--format BAM -g hs \\\n",
    "--keep-dup all \\\n",
    "--name S96_KOA2B1_2__KO2B1_Control \\\n",
    "--outdir hap1_samples/aligned_files/filtered_reads/peak_calling_macs2"
   ]
  },
  {
   "cell_type": "code",
   "execution_count": null,
   "id": "34519dd4-32ad-44f5-9bd2-3918cb67ed73",
   "metadata": {},
   "outputs": [],
   "source": [
    "# HAP1 KO YF2\n",
    "# 1 - S96_KOYF2_1\n",
    "!macs2 callpeak -t hap1_samples/aligned_files/filtered_reads/S96_KOYF2_1_aln.bam \\\n",
    "-c hap1_samples/aligned_files/filtered_reads/KOYF2_Control_aln.bam \\\n",
    "--broad \\\n",
    "--format BAM -g hs \\\n",
    "--keep-dup all \\\n",
    "--name S96_KOYF2_1__KOYF2_Control \\\n",
    "--outdir hap1_samples/aligned_files/filtered_reads/peak_calling_macs2"
   ]
  },
  {
   "cell_type": "code",
   "execution_count": null,
   "id": "0fe36cd2-7134-468b-9efa-dc283f088d75",
   "metadata": {},
   "outputs": [],
   "source": [
    "# HAP1 KO YF2\n",
    "# 2 - S96_KOYF2_2\n",
    "!macs2 callpeak -t hap1_samples/aligned_files/filtered_reads/S96_KOYF2_2_aln.bam \\\n",
    "-c hap1_samples/aligned_files/filtered_reads/KOYF2_Control_aln.bam \\\n",
    "--broad \\\n",
    "--format BAM -g hs \\\n",
    "--keep-dup all \\\n",
    "--name S96_KOYF2_2__KOYF2_Control \\\n",
    "--outdir hap1_samples/aligned_files/filtered_reads/peak_calling_macs2"
   ]
  }
 ],
 "metadata": {
  "kernelspec": {
   "display_name": "Python 3 (ipykernel)",
   "language": "python",
   "name": "python3"
  },
  "language_info": {
   "codemirror_mode": {
    "name": "ipython",
    "version": 3
   },
   "file_extension": ".py",
   "mimetype": "text/x-python",
   "name": "python",
   "nbconvert_exporter": "python",
   "pygments_lexer": "ipython3",
   "version": "3.11.8"
  }
 },
 "nbformat": 4,
 "nbformat_minor": 5
}
